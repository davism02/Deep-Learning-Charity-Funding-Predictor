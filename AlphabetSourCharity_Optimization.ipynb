{
  "nbformat": 4,
  "nbformat_minor": 0,
  "metadata": {
    "kernelspec": {
      "display_name": "Python 3",
      "language": "python",
      "name": "python3"
    },
    "language_info": {
      "codemirror_mode": {
        "name": "ipython",
        "version": 3
      },
      "file_extension": ".py",
      "mimetype": "text/x-python",
      "name": "python",
      "nbconvert_exporter": "python",
      "pygments_lexer": "ipython3",
      "version": "3.8.8"
    },
    "colab": {
      "name": "Starter_Code.ipynb",
      "provenance": [],
      "include_colab_link": true
    }
  },
  "cells": [
    {
      "cell_type": "markdown",
      "metadata": {
        "id": "view-in-github",
        "colab_type": "text"
      },
      "source": [
        "<a href=\"https://colab.research.google.com/github/davism02/Deep-Learning-Charity-Funding-Predictor/blob/main/Starter_Code.ipynb\" target=\"_parent\"><img src=\"https://colab.research.google.com/assets/colab-badge.svg\" alt=\"Open In Colab\"/></a>"
      ]
    },
    {
      "cell_type": "markdown",
      "metadata": {
        "id": "RTKyq4KbgPNY"
      },
      "source": [
        "## Preprocessing"
      ]
    },
    {
      "cell_type": "code",
      "metadata": {
        "id": "mfQLwiaXgS7P"
      },
      "source": [
        "url = 'https://raw.githubusercontent.com/davism02/Deep-Learning-Charity-Funding-Predictor/main/Resources/charity_data.csv'\n"
      ],
      "execution_count": 1,
      "outputs": []
    },
    {
      "cell_type": "code",
      "metadata": {
        "colab": {
          "base_uri": "https://localhost:8080/",
          "height": 204
        },
        "id": "eeCM1LMIgPNb",
        "outputId": "504db725-0fcb-45bb-bf3d-cc4ddcbdc147"
      },
      "source": [
        "# Import our dependencies\n",
        "from sklearn.model_selection import train_test_split\n",
        "from sklearn.preprocessing import StandardScaler\n",
        "import pandas as pd\n",
        "import tensorflow as tf\n",
        "\n",
        "# Import and read the charity_data.csv.\n",
        "import pandas as pd \n",
        "application_df = pd.read_csv(url)\n",
        "application_df.head()"
      ],
      "execution_count": 2,
      "outputs": [
        {
          "output_type": "execute_result",
          "data": {
            "text/html": [
              "<div>\n",
              "<style scoped>\n",
              "    .dataframe tbody tr th:only-of-type {\n",
              "        vertical-align: middle;\n",
              "    }\n",
              "\n",
              "    .dataframe tbody tr th {\n",
              "        vertical-align: top;\n",
              "    }\n",
              "\n",
              "    .dataframe thead th {\n",
              "        text-align: right;\n",
              "    }\n",
              "</style>\n",
              "<table border=\"1\" class=\"dataframe\">\n",
              "  <thead>\n",
              "    <tr style=\"text-align: right;\">\n",
              "      <th></th>\n",
              "      <th>EIN</th>\n",
              "      <th>NAME</th>\n",
              "      <th>APPLICATION_TYPE</th>\n",
              "      <th>AFFILIATION</th>\n",
              "      <th>CLASSIFICATION</th>\n",
              "      <th>USE_CASE</th>\n",
              "      <th>ORGANIZATION</th>\n",
              "      <th>STATUS</th>\n",
              "      <th>INCOME_AMT</th>\n",
              "      <th>SPECIAL_CONSIDERATIONS</th>\n",
              "      <th>ASK_AMT</th>\n",
              "      <th>IS_SUCCESSFUL</th>\n",
              "    </tr>\n",
              "  </thead>\n",
              "  <tbody>\n",
              "    <tr>\n",
              "      <th>0</th>\n",
              "      <td>10520599</td>\n",
              "      <td>BLUE KNIGHTS MOTORCYCLE CLUB</td>\n",
              "      <td>T10</td>\n",
              "      <td>Independent</td>\n",
              "      <td>C1000</td>\n",
              "      <td>ProductDev</td>\n",
              "      <td>Association</td>\n",
              "      <td>1</td>\n",
              "      <td>0</td>\n",
              "      <td>N</td>\n",
              "      <td>5000</td>\n",
              "      <td>1</td>\n",
              "    </tr>\n",
              "    <tr>\n",
              "      <th>1</th>\n",
              "      <td>10531628</td>\n",
              "      <td>AMERICAN CHESAPEAKE CLUB CHARITABLE TR</td>\n",
              "      <td>T3</td>\n",
              "      <td>Independent</td>\n",
              "      <td>C2000</td>\n",
              "      <td>Preservation</td>\n",
              "      <td>Co-operative</td>\n",
              "      <td>1</td>\n",
              "      <td>1-9999</td>\n",
              "      <td>N</td>\n",
              "      <td>108590</td>\n",
              "      <td>1</td>\n",
              "    </tr>\n",
              "    <tr>\n",
              "      <th>2</th>\n",
              "      <td>10547893</td>\n",
              "      <td>ST CLOUD PROFESSIONAL FIREFIGHTERS</td>\n",
              "      <td>T5</td>\n",
              "      <td>CompanySponsored</td>\n",
              "      <td>C3000</td>\n",
              "      <td>ProductDev</td>\n",
              "      <td>Association</td>\n",
              "      <td>1</td>\n",
              "      <td>0</td>\n",
              "      <td>N</td>\n",
              "      <td>5000</td>\n",
              "      <td>0</td>\n",
              "    </tr>\n",
              "    <tr>\n",
              "      <th>3</th>\n",
              "      <td>10553066</td>\n",
              "      <td>SOUTHSIDE ATHLETIC ASSOCIATION</td>\n",
              "      <td>T3</td>\n",
              "      <td>CompanySponsored</td>\n",
              "      <td>C2000</td>\n",
              "      <td>Preservation</td>\n",
              "      <td>Trust</td>\n",
              "      <td>1</td>\n",
              "      <td>10000-24999</td>\n",
              "      <td>N</td>\n",
              "      <td>6692</td>\n",
              "      <td>1</td>\n",
              "    </tr>\n",
              "    <tr>\n",
              "      <th>4</th>\n",
              "      <td>10556103</td>\n",
              "      <td>GENETIC RESEARCH INSTITUTE OF THE DESERT</td>\n",
              "      <td>T3</td>\n",
              "      <td>Independent</td>\n",
              "      <td>C1000</td>\n",
              "      <td>Heathcare</td>\n",
              "      <td>Trust</td>\n",
              "      <td>1</td>\n",
              "      <td>100000-499999</td>\n",
              "      <td>N</td>\n",
              "      <td>142590</td>\n",
              "      <td>1</td>\n",
              "    </tr>\n",
              "  </tbody>\n",
              "</table>\n",
              "</div>"
            ],
            "text/plain": [
              "        EIN                                      NAME  ... ASK_AMT IS_SUCCESSFUL\n",
              "0  10520599              BLUE KNIGHTS MOTORCYCLE CLUB  ...    5000             1\n",
              "1  10531628    AMERICAN CHESAPEAKE CLUB CHARITABLE TR  ...  108590             1\n",
              "2  10547893        ST CLOUD PROFESSIONAL FIREFIGHTERS  ...    5000             0\n",
              "3  10553066            SOUTHSIDE ATHLETIC ASSOCIATION  ...    6692             1\n",
              "4  10556103  GENETIC RESEARCH INSTITUTE OF THE DESERT  ...  142590             1\n",
              "\n",
              "[5 rows x 12 columns]"
            ]
          },
          "metadata": {},
          "execution_count": 2
        }
      ]
    },
    {
      "cell_type": "code",
      "metadata": {
        "id": "mYQ1JIObgPNd"
      },
      "source": [
        "# Drop the non-beneficial ID columns, 'EIN' and 'NAME'.\n",
        "#  YOUR CODE GOES HERE\n",
        "application_df = application_df.drop(columns = ['EIN','NAME'])\n"
      ],
      "execution_count": 3,
      "outputs": []
    },
    {
      "cell_type": "code",
      "metadata": {
        "colab": {
          "base_uri": "https://localhost:8080/"
        },
        "id": "7igHmSn2gPNe",
        "outputId": "2b1c575f-0c17-487f-87d6-dd12f1374907"
      },
      "source": [
        "# Determine the number of unique values in each column.\n",
        "application_df.nunique()"
      ],
      "execution_count": 4,
      "outputs": [
        {
          "output_type": "execute_result",
          "data": {
            "text/plain": [
              "APPLICATION_TYPE            17\n",
              "AFFILIATION                  6\n",
              "CLASSIFICATION              71\n",
              "USE_CASE                     5\n",
              "ORGANIZATION                 4\n",
              "STATUS                       2\n",
              "INCOME_AMT                   9\n",
              "SPECIAL_CONSIDERATIONS       2\n",
              "ASK_AMT                   8747\n",
              "IS_SUCCESSFUL                2\n",
              "dtype: int64"
            ]
          },
          "metadata": {},
          "execution_count": 4
        }
      ]
    },
    {
      "cell_type": "code",
      "metadata": {
        "colab": {
          "base_uri": "https://localhost:8080/"
        },
        "id": "-x1a7wSmgPNf",
        "outputId": "d9165433-229f-40b4-f2f1-8bdeab87d155"
      },
      "source": [
        "# Look at APPLICATION_TYPE value counts for binning\n",
        "counts = application_df['APPLICATION_TYPE'].value_counts()\n",
        "counts"
      ],
      "execution_count": 5,
      "outputs": [
        {
          "output_type": "execute_result",
          "data": {
            "text/plain": [
              "T3     27037\n",
              "T4      1542\n",
              "T6      1216\n",
              "T5      1173\n",
              "T19     1065\n",
              "T8       737\n",
              "T7       725\n",
              "T10      528\n",
              "T9       156\n",
              "T13       66\n",
              "T12       27\n",
              "T2        16\n",
              "T25        3\n",
              "T14        3\n",
              "T29        2\n",
              "T15        2\n",
              "T17        1\n",
              "Name: APPLICATION_TYPE, dtype: int64"
            ]
          },
          "metadata": {},
          "execution_count": 5
        }
      ]
    },
    {
      "cell_type": "code",
      "metadata": {
        "colab": {
          "base_uri": "https://localhost:8080/"
        },
        "id": "45alr8vMgPNf",
        "outputId": "cb7125e7-5bea-473a-85fc-b2ff139683cd"
      },
      "source": [
        "# Choose a cutoff value and create a list of application types to be replaced\n",
        "# use the variable name `application_types_to_replace`\n",
        "#  YOUR CODE GOES HERE\n",
        "\n",
        "application_types_to_replace = list(counts[counts<500].index)\n",
        "application_types_to_replace\n"
      ],
      "execution_count": 6,
      "outputs": [
        {
          "output_type": "execute_result",
          "data": {
            "text/plain": [
              "['T9', 'T13', 'T12', 'T2', 'T25', 'T14', 'T29', 'T15', 'T17']"
            ]
          },
          "metadata": {},
          "execution_count": 6
        }
      ]
    },
    {
      "cell_type": "code",
      "metadata": {
        "colab": {
          "base_uri": "https://localhost:8080/"
        },
        "id": "3hbC-qPzgPNf",
        "outputId": "98beb78b-03d6-41e8-cc79-a547e06bd2ee"
      },
      "source": [
        "# Replace in dataframe\n",
        "for app in application_types_to_replace:\n",
        "    application_df['APPLICATION_TYPE'] = application_df['APPLICATION_TYPE'].replace(app,\"Other\")\n",
        "\n",
        "# Check to make sure binning was successful\n",
        "application_df['APPLICATION_TYPE'].value_counts()"
      ],
      "execution_count": 7,
      "outputs": [
        {
          "output_type": "execute_result",
          "data": {
            "text/plain": [
              "T3       27037\n",
              "T4        1542\n",
              "T6        1216\n",
              "T5        1173\n",
              "T19       1065\n",
              "T8         737\n",
              "T7         725\n",
              "T10        528\n",
              "Other      276\n",
              "Name: APPLICATION_TYPE, dtype: int64"
            ]
          },
          "metadata": {},
          "execution_count": 7
        }
      ]
    },
    {
      "cell_type": "code",
      "metadata": {
        "colab": {
          "base_uri": "https://localhost:8080/"
        },
        "id": "Y0u6Pz2lgPNg",
        "outputId": "f7b09a6a-3b81-4715-9fd9-bfb9236a28d8"
      },
      "source": [
        "# Look at CLASSIFICATION value counts for binning\n",
        "counts1 = application_df['CLASSIFICATION'].value_counts()\n",
        "counts1"
      ],
      "execution_count": 8,
      "outputs": [
        {
          "output_type": "execute_result",
          "data": {
            "text/plain": [
              "C1000    17326\n",
              "C2000     6074\n",
              "C1200     4837\n",
              "C3000     1918\n",
              "C2100     1883\n",
              "         ...  \n",
              "C2600        1\n",
              "C2570        1\n",
              "C6100        1\n",
              "C1248        1\n",
              "C1900        1\n",
              "Name: CLASSIFICATION, Length: 71, dtype: int64"
            ]
          },
          "metadata": {},
          "execution_count": 8
        }
      ]
    },
    {
      "cell_type": "code",
      "metadata": {
        "colab": {
          "base_uri": "https://localhost:8080/"
        },
        "id": "MwYvT8sSgPNh",
        "outputId": "6dee18e5-9ef2-4836-fc0e-34fc4217e95f"
      },
      "source": [
        "# You may find it helpful to look at CLASSIFICATION value counts >1\n",
        "counts2 =counts1[counts1>1]\n",
        "counts2"
      ],
      "execution_count": 9,
      "outputs": [
        {
          "output_type": "execute_result",
          "data": {
            "text/plain": [
              "C1000    17326\n",
              "C2000     6074\n",
              "C1200     4837\n",
              "C3000     1918\n",
              "C2100     1883\n",
              "C7000      777\n",
              "C1700      287\n",
              "C4000      194\n",
              "C5000      116\n",
              "C1270      114\n",
              "C2700      104\n",
              "C2800       95\n",
              "C7100       75\n",
              "C1300       58\n",
              "C1280       50\n",
              "C1230       36\n",
              "C1400       34\n",
              "C7200       32\n",
              "C2300       32\n",
              "C1240       30\n",
              "C8000       20\n",
              "C7120       18\n",
              "C1500       16\n",
              "C6000       15\n",
              "C1800       15\n",
              "C1250       14\n",
              "C8200       11\n",
              "C1278       10\n",
              "C1238       10\n",
              "C1237        9\n",
              "C1235        9\n",
              "C7210        7\n",
              "C1720        6\n",
              "C2400        6\n",
              "C4100        6\n",
              "C1257        5\n",
              "C1600        5\n",
              "C2710        3\n",
              "C0           3\n",
              "C1260        3\n",
              "C1246        2\n",
              "C1267        2\n",
              "C1234        2\n",
              "C1256        2\n",
              "C3200        2\n",
              "Name: CLASSIFICATION, dtype: int64"
            ]
          },
          "metadata": {},
          "execution_count": 9
        }
      ]
    },
    {
      "cell_type": "code",
      "metadata": {
        "colab": {
          "base_uri": "https://localhost:8080/"
        },
        "id": "2cOSqoEMgPNi",
        "outputId": "d533b15c-6965-43d4-8416-16e6e6b989d7"
      },
      "source": [
        "# Choose a cutoff value and create a list of classifications to be replaced\n",
        "# use the variable name `classifications_to_replace`\n",
        "#  YOUR CODE GOES HERE\n",
        "classifications_to_replace = list(counts1[counts1<100].index)\n",
        "classifications_to_replace"
      ],
      "execution_count": 10,
      "outputs": [
        {
          "output_type": "execute_result",
          "data": {
            "text/plain": [
              "['C2800',\n",
              " 'C7100',\n",
              " 'C1300',\n",
              " 'C1280',\n",
              " 'C1230',\n",
              " 'C1400',\n",
              " 'C7200',\n",
              " 'C2300',\n",
              " 'C1240',\n",
              " 'C8000',\n",
              " 'C7120',\n",
              " 'C1500',\n",
              " 'C6000',\n",
              " 'C1800',\n",
              " 'C1250',\n",
              " 'C8200',\n",
              " 'C1278',\n",
              " 'C1238',\n",
              " 'C1237',\n",
              " 'C1235',\n",
              " 'C7210',\n",
              " 'C1720',\n",
              " 'C2400',\n",
              " 'C4100',\n",
              " 'C1257',\n",
              " 'C1600',\n",
              " 'C2710',\n",
              " 'C0',\n",
              " 'C1260',\n",
              " 'C1246',\n",
              " 'C1267',\n",
              " 'C1234',\n",
              " 'C1256',\n",
              " 'C3200',\n",
              " 'C4500',\n",
              " 'C1570',\n",
              " 'C2190',\n",
              " 'C1236',\n",
              " 'C2500',\n",
              " 'C8210',\n",
              " 'C1245',\n",
              " 'C4200',\n",
              " 'C3700',\n",
              " 'C2561',\n",
              " 'C5200',\n",
              " 'C1370',\n",
              " 'C1732',\n",
              " 'C2380',\n",
              " 'C1820',\n",
              " 'C1283',\n",
              " 'C1728',\n",
              " 'C2170',\n",
              " 'C2150',\n",
              " 'C4120',\n",
              " 'C1580',\n",
              " 'C2600',\n",
              " 'C2570',\n",
              " 'C6100',\n",
              " 'C1248',\n",
              " 'C1900']"
            ]
          },
          "metadata": {},
          "execution_count": 10
        }
      ]
    },
    {
      "cell_type": "code",
      "metadata": {
        "colab": {
          "base_uri": "https://localhost:8080/"
        },
        "id": "YDQw0Nv8gPNi",
        "outputId": "653278fe-97c8-4ce0-af33-6d116e34a524"
      },
      "source": [
        "# Replace in dataframe\n",
        "for cls in classifications_to_replace:\n",
        "    application_df['CLASSIFICATION'] = application_df['CLASSIFICATION'].replace(cls,\"Other\")\n",
        "    \n",
        "# Check to make sure binning was successful\n",
        "application_df['CLASSIFICATION'].value_counts()"
      ],
      "execution_count": 11,
      "outputs": [
        {
          "output_type": "execute_result",
          "data": {
            "text/plain": [
              "C1000    17326\n",
              "C2000     6074\n",
              "C1200     4837\n",
              "C3000     1918\n",
              "C2100     1883\n",
              "C7000      777\n",
              "Other      669\n",
              "C1700      287\n",
              "C4000      194\n",
              "C5000      116\n",
              "C1270      114\n",
              "C2700      104\n",
              "Name: CLASSIFICATION, dtype: int64"
            ]
          },
          "metadata": {},
          "execution_count": 11
        }
      ]
    },
    {
      "cell_type": "code",
      "metadata": {
        "colab": {
          "base_uri": "https://localhost:8080/",
          "height": 241
        },
        "id": "9XZM3dw_gPNj",
        "outputId": "fd3784cb-136b-417b-ac6d-5c6b701249c1"
      },
      "source": [
        "# Convert categorical data to numeric with `pd.get_dummies`\n",
        "application_df = pd.get_dummies(application_df,dtype=float)\n",
        "application_df.head()"
      ],
      "execution_count": 12,
      "outputs": [
        {
          "output_type": "execute_result",
          "data": {
            "text/html": [
              "<div>\n",
              "<style scoped>\n",
              "    .dataframe tbody tr th:only-of-type {\n",
              "        vertical-align: middle;\n",
              "    }\n",
              "\n",
              "    .dataframe tbody tr th {\n",
              "        vertical-align: top;\n",
              "    }\n",
              "\n",
              "    .dataframe thead th {\n",
              "        text-align: right;\n",
              "    }\n",
              "</style>\n",
              "<table border=\"1\" class=\"dataframe\">\n",
              "  <thead>\n",
              "    <tr style=\"text-align: right;\">\n",
              "      <th></th>\n",
              "      <th>STATUS</th>\n",
              "      <th>ASK_AMT</th>\n",
              "      <th>IS_SUCCESSFUL</th>\n",
              "      <th>APPLICATION_TYPE_Other</th>\n",
              "      <th>APPLICATION_TYPE_T10</th>\n",
              "      <th>APPLICATION_TYPE_T19</th>\n",
              "      <th>APPLICATION_TYPE_T3</th>\n",
              "      <th>APPLICATION_TYPE_T4</th>\n",
              "      <th>APPLICATION_TYPE_T5</th>\n",
              "      <th>APPLICATION_TYPE_T6</th>\n",
              "      <th>APPLICATION_TYPE_T7</th>\n",
              "      <th>APPLICATION_TYPE_T8</th>\n",
              "      <th>AFFILIATION_CompanySponsored</th>\n",
              "      <th>AFFILIATION_Family/Parent</th>\n",
              "      <th>AFFILIATION_Independent</th>\n",
              "      <th>AFFILIATION_National</th>\n",
              "      <th>AFFILIATION_Other</th>\n",
              "      <th>AFFILIATION_Regional</th>\n",
              "      <th>CLASSIFICATION_C1000</th>\n",
              "      <th>CLASSIFICATION_C1200</th>\n",
              "      <th>CLASSIFICATION_C1270</th>\n",
              "      <th>CLASSIFICATION_C1700</th>\n",
              "      <th>CLASSIFICATION_C2000</th>\n",
              "      <th>CLASSIFICATION_C2100</th>\n",
              "      <th>CLASSIFICATION_C2700</th>\n",
              "      <th>CLASSIFICATION_C3000</th>\n",
              "      <th>CLASSIFICATION_C4000</th>\n",
              "      <th>CLASSIFICATION_C5000</th>\n",
              "      <th>CLASSIFICATION_C7000</th>\n",
              "      <th>CLASSIFICATION_Other</th>\n",
              "      <th>USE_CASE_CommunityServ</th>\n",
              "      <th>USE_CASE_Heathcare</th>\n",
              "      <th>USE_CASE_Other</th>\n",
              "      <th>USE_CASE_Preservation</th>\n",
              "      <th>USE_CASE_ProductDev</th>\n",
              "      <th>ORGANIZATION_Association</th>\n",
              "      <th>ORGANIZATION_Co-operative</th>\n",
              "      <th>ORGANIZATION_Corporation</th>\n",
              "      <th>ORGANIZATION_Trust</th>\n",
              "      <th>INCOME_AMT_0</th>\n",
              "      <th>INCOME_AMT_1-9999</th>\n",
              "      <th>INCOME_AMT_10000-24999</th>\n",
              "      <th>INCOME_AMT_100000-499999</th>\n",
              "      <th>INCOME_AMT_10M-50M</th>\n",
              "      <th>INCOME_AMT_1M-5M</th>\n",
              "      <th>INCOME_AMT_25000-99999</th>\n",
              "      <th>INCOME_AMT_50M+</th>\n",
              "      <th>INCOME_AMT_5M-10M</th>\n",
              "      <th>SPECIAL_CONSIDERATIONS_N</th>\n",
              "      <th>SPECIAL_CONSIDERATIONS_Y</th>\n",
              "    </tr>\n",
              "  </thead>\n",
              "  <tbody>\n",
              "    <tr>\n",
              "      <th>0</th>\n",
              "      <td>1</td>\n",
              "      <td>5000</td>\n",
              "      <td>1</td>\n",
              "      <td>0.0</td>\n",
              "      <td>1.0</td>\n",
              "      <td>0.0</td>\n",
              "      <td>0.0</td>\n",
              "      <td>0.0</td>\n",
              "      <td>0.0</td>\n",
              "      <td>0.0</td>\n",
              "      <td>0.0</td>\n",
              "      <td>0.0</td>\n",
              "      <td>0.0</td>\n",
              "      <td>0.0</td>\n",
              "      <td>1.0</td>\n",
              "      <td>0.0</td>\n",
              "      <td>0.0</td>\n",
              "      <td>0.0</td>\n",
              "      <td>1.0</td>\n",
              "      <td>0.0</td>\n",
              "      <td>0.0</td>\n",
              "      <td>0.0</td>\n",
              "      <td>0.0</td>\n",
              "      <td>0.0</td>\n",
              "      <td>0.0</td>\n",
              "      <td>0.0</td>\n",
              "      <td>0.0</td>\n",
              "      <td>0.0</td>\n",
              "      <td>0.0</td>\n",
              "      <td>0.0</td>\n",
              "      <td>0.0</td>\n",
              "      <td>0.0</td>\n",
              "      <td>0.0</td>\n",
              "      <td>0.0</td>\n",
              "      <td>1.0</td>\n",
              "      <td>1.0</td>\n",
              "      <td>0.0</td>\n",
              "      <td>0.0</td>\n",
              "      <td>0.0</td>\n",
              "      <td>1.0</td>\n",
              "      <td>0.0</td>\n",
              "      <td>0.0</td>\n",
              "      <td>0.0</td>\n",
              "      <td>0.0</td>\n",
              "      <td>0.0</td>\n",
              "      <td>0.0</td>\n",
              "      <td>0.0</td>\n",
              "      <td>0.0</td>\n",
              "      <td>1.0</td>\n",
              "      <td>0.0</td>\n",
              "    </tr>\n",
              "    <tr>\n",
              "      <th>1</th>\n",
              "      <td>1</td>\n",
              "      <td>108590</td>\n",
              "      <td>1</td>\n",
              "      <td>0.0</td>\n",
              "      <td>0.0</td>\n",
              "      <td>0.0</td>\n",
              "      <td>1.0</td>\n",
              "      <td>0.0</td>\n",
              "      <td>0.0</td>\n",
              "      <td>0.0</td>\n",
              "      <td>0.0</td>\n",
              "      <td>0.0</td>\n",
              "      <td>0.0</td>\n",
              "      <td>0.0</td>\n",
              "      <td>1.0</td>\n",
              "      <td>0.0</td>\n",
              "      <td>0.0</td>\n",
              "      <td>0.0</td>\n",
              "      <td>0.0</td>\n",
              "      <td>0.0</td>\n",
              "      <td>0.0</td>\n",
              "      <td>0.0</td>\n",
              "      <td>1.0</td>\n",
              "      <td>0.0</td>\n",
              "      <td>0.0</td>\n",
              "      <td>0.0</td>\n",
              "      <td>0.0</td>\n",
              "      <td>0.0</td>\n",
              "      <td>0.0</td>\n",
              "      <td>0.0</td>\n",
              "      <td>0.0</td>\n",
              "      <td>0.0</td>\n",
              "      <td>0.0</td>\n",
              "      <td>1.0</td>\n",
              "      <td>0.0</td>\n",
              "      <td>0.0</td>\n",
              "      <td>1.0</td>\n",
              "      <td>0.0</td>\n",
              "      <td>0.0</td>\n",
              "      <td>0.0</td>\n",
              "      <td>1.0</td>\n",
              "      <td>0.0</td>\n",
              "      <td>0.0</td>\n",
              "      <td>0.0</td>\n",
              "      <td>0.0</td>\n",
              "      <td>0.0</td>\n",
              "      <td>0.0</td>\n",
              "      <td>0.0</td>\n",
              "      <td>1.0</td>\n",
              "      <td>0.0</td>\n",
              "    </tr>\n",
              "    <tr>\n",
              "      <th>2</th>\n",
              "      <td>1</td>\n",
              "      <td>5000</td>\n",
              "      <td>0</td>\n",
              "      <td>0.0</td>\n",
              "      <td>0.0</td>\n",
              "      <td>0.0</td>\n",
              "      <td>0.0</td>\n",
              "      <td>0.0</td>\n",
              "      <td>1.0</td>\n",
              "      <td>0.0</td>\n",
              "      <td>0.0</td>\n",
              "      <td>0.0</td>\n",
              "      <td>1.0</td>\n",
              "      <td>0.0</td>\n",
              "      <td>0.0</td>\n",
              "      <td>0.0</td>\n",
              "      <td>0.0</td>\n",
              "      <td>0.0</td>\n",
              "      <td>0.0</td>\n",
              "      <td>0.0</td>\n",
              "      <td>0.0</td>\n",
              "      <td>0.0</td>\n",
              "      <td>0.0</td>\n",
              "      <td>0.0</td>\n",
              "      <td>0.0</td>\n",
              "      <td>1.0</td>\n",
              "      <td>0.0</td>\n",
              "      <td>0.0</td>\n",
              "      <td>0.0</td>\n",
              "      <td>0.0</td>\n",
              "      <td>0.0</td>\n",
              "      <td>0.0</td>\n",
              "      <td>0.0</td>\n",
              "      <td>0.0</td>\n",
              "      <td>1.0</td>\n",
              "      <td>1.0</td>\n",
              "      <td>0.0</td>\n",
              "      <td>0.0</td>\n",
              "      <td>0.0</td>\n",
              "      <td>1.0</td>\n",
              "      <td>0.0</td>\n",
              "      <td>0.0</td>\n",
              "      <td>0.0</td>\n",
              "      <td>0.0</td>\n",
              "      <td>0.0</td>\n",
              "      <td>0.0</td>\n",
              "      <td>0.0</td>\n",
              "      <td>0.0</td>\n",
              "      <td>1.0</td>\n",
              "      <td>0.0</td>\n",
              "    </tr>\n",
              "    <tr>\n",
              "      <th>3</th>\n",
              "      <td>1</td>\n",
              "      <td>6692</td>\n",
              "      <td>1</td>\n",
              "      <td>0.0</td>\n",
              "      <td>0.0</td>\n",
              "      <td>0.0</td>\n",
              "      <td>1.0</td>\n",
              "      <td>0.0</td>\n",
              "      <td>0.0</td>\n",
              "      <td>0.0</td>\n",
              "      <td>0.0</td>\n",
              "      <td>0.0</td>\n",
              "      <td>1.0</td>\n",
              "      <td>0.0</td>\n",
              "      <td>0.0</td>\n",
              "      <td>0.0</td>\n",
              "      <td>0.0</td>\n",
              "      <td>0.0</td>\n",
              "      <td>0.0</td>\n",
              "      <td>0.0</td>\n",
              "      <td>0.0</td>\n",
              "      <td>0.0</td>\n",
              "      <td>1.0</td>\n",
              "      <td>0.0</td>\n",
              "      <td>0.0</td>\n",
              "      <td>0.0</td>\n",
              "      <td>0.0</td>\n",
              "      <td>0.0</td>\n",
              "      <td>0.0</td>\n",
              "      <td>0.0</td>\n",
              "      <td>0.0</td>\n",
              "      <td>0.0</td>\n",
              "      <td>0.0</td>\n",
              "      <td>1.0</td>\n",
              "      <td>0.0</td>\n",
              "      <td>0.0</td>\n",
              "      <td>0.0</td>\n",
              "      <td>0.0</td>\n",
              "      <td>1.0</td>\n",
              "      <td>0.0</td>\n",
              "      <td>0.0</td>\n",
              "      <td>1.0</td>\n",
              "      <td>0.0</td>\n",
              "      <td>0.0</td>\n",
              "      <td>0.0</td>\n",
              "      <td>0.0</td>\n",
              "      <td>0.0</td>\n",
              "      <td>0.0</td>\n",
              "      <td>1.0</td>\n",
              "      <td>0.0</td>\n",
              "    </tr>\n",
              "    <tr>\n",
              "      <th>4</th>\n",
              "      <td>1</td>\n",
              "      <td>142590</td>\n",
              "      <td>1</td>\n",
              "      <td>0.0</td>\n",
              "      <td>0.0</td>\n",
              "      <td>0.0</td>\n",
              "      <td>1.0</td>\n",
              "      <td>0.0</td>\n",
              "      <td>0.0</td>\n",
              "      <td>0.0</td>\n",
              "      <td>0.0</td>\n",
              "      <td>0.0</td>\n",
              "      <td>0.0</td>\n",
              "      <td>0.0</td>\n",
              "      <td>1.0</td>\n",
              "      <td>0.0</td>\n",
              "      <td>0.0</td>\n",
              "      <td>0.0</td>\n",
              "      <td>1.0</td>\n",
              "      <td>0.0</td>\n",
              "      <td>0.0</td>\n",
              "      <td>0.0</td>\n",
              "      <td>0.0</td>\n",
              "      <td>0.0</td>\n",
              "      <td>0.0</td>\n",
              "      <td>0.0</td>\n",
              "      <td>0.0</td>\n",
              "      <td>0.0</td>\n",
              "      <td>0.0</td>\n",
              "      <td>0.0</td>\n",
              "      <td>0.0</td>\n",
              "      <td>1.0</td>\n",
              "      <td>0.0</td>\n",
              "      <td>0.0</td>\n",
              "      <td>0.0</td>\n",
              "      <td>0.0</td>\n",
              "      <td>0.0</td>\n",
              "      <td>0.0</td>\n",
              "      <td>1.0</td>\n",
              "      <td>0.0</td>\n",
              "      <td>0.0</td>\n",
              "      <td>0.0</td>\n",
              "      <td>1.0</td>\n",
              "      <td>0.0</td>\n",
              "      <td>0.0</td>\n",
              "      <td>0.0</td>\n",
              "      <td>0.0</td>\n",
              "      <td>0.0</td>\n",
              "      <td>1.0</td>\n",
              "      <td>0.0</td>\n",
              "    </tr>\n",
              "  </tbody>\n",
              "</table>\n",
              "</div>"
            ],
            "text/plain": [
              "   STATUS  ASK_AMT  ...  SPECIAL_CONSIDERATIONS_N  SPECIAL_CONSIDERATIONS_Y\n",
              "0       1     5000  ...                       1.0                       0.0\n",
              "1       1   108590  ...                       1.0                       0.0\n",
              "2       1     5000  ...                       1.0                       0.0\n",
              "3       1     6692  ...                       1.0                       0.0\n",
              "4       1   142590  ...                       1.0                       0.0\n",
              "\n",
              "[5 rows x 50 columns]"
            ]
          },
          "metadata": {},
          "execution_count": 12
        }
      ]
    },
    {
      "cell_type": "code",
      "metadata": {
        "colab": {
          "base_uri": "https://localhost:8080/"
        },
        "id": "68Z9QLx9gPNj",
        "outputId": "36f1291a-e607-4b55-9f7a-5544469ebb82"
      },
      "source": [
        "# Split our preprocessed data into our features and target arrays\n",
        "y = application_df['IS_SUCCESSFUL'].values\n",
        "y\n"
      ],
      "execution_count": 14,
      "outputs": [
        {
          "output_type": "execute_result",
          "data": {
            "text/plain": [
              "array([1, 1, 0, ..., 0, 1, 0])"
            ]
          },
          "metadata": {},
          "execution_count": 14
        }
      ]
    },
    {
      "cell_type": "code",
      "metadata": {
        "colab": {
          "base_uri": "https://localhost:8080/"
        },
        "id": "xpY1Qa3hgPNj",
        "outputId": "e2f86e0e-6192-4986-d68f-f11cbc20afbf"
      },
      "source": [
        "# Split the preprocessed data into a training and testing dataset\n",
        "X = application_df.drop('IS_SUCCESSFUL', axis=1).values\n",
        "X"
      ],
      "execution_count": 13,
      "outputs": [
        {
          "output_type": "execute_result",
          "data": {
            "text/plain": [
              "array([[1.0000000e+00, 5.0000000e+03, 0.0000000e+00, ..., 0.0000000e+00,\n",
              "        1.0000000e+00, 0.0000000e+00],\n",
              "       [1.0000000e+00, 1.0859000e+05, 0.0000000e+00, ..., 0.0000000e+00,\n",
              "        1.0000000e+00, 0.0000000e+00],\n",
              "       [1.0000000e+00, 5.0000000e+03, 0.0000000e+00, ..., 0.0000000e+00,\n",
              "        1.0000000e+00, 0.0000000e+00],\n",
              "       ...,\n",
              "       [1.0000000e+00, 5.0000000e+03, 0.0000000e+00, ..., 0.0000000e+00,\n",
              "        1.0000000e+00, 0.0000000e+00],\n",
              "       [1.0000000e+00, 5.0000000e+03, 0.0000000e+00, ..., 0.0000000e+00,\n",
              "        1.0000000e+00, 0.0000000e+00],\n",
              "       [1.0000000e+00, 3.6500179e+07, 0.0000000e+00, ..., 0.0000000e+00,\n",
              "        1.0000000e+00, 0.0000000e+00]])"
            ]
          },
          "metadata": {},
          "execution_count": 13
        }
      ]
    },
    {
      "cell_type": "code",
      "metadata": {
        "id": "qMvYkIdYgPNk"
      },
      "source": [
        "# Split the preprocessed data into a training and testing dataset\n",
        "X_train, X_test, y_train, y_test = train_test_split(X,y,random_state= 42)"
      ],
      "execution_count": 15,
      "outputs": []
    },
    {
      "cell_type": "code",
      "metadata": {
        "id": "zAaqnw0mgPNk"
      },
      "source": [
        "# Create a StandardScaler instances\n",
        "scaler = StandardScaler()\n",
        "\n",
        "# Fit the StandardScaler\n",
        "X_scaler = scaler.fit(X_train)\n",
        "\n",
        "# Scale the data\n",
        "X_train_scaled = X_scaler.transform(X_train)\n",
        "X_test_scaled = X_scaler.transform(X_test)"
      ],
      "execution_count": 16,
      "outputs": []
    },
    {
      "cell_type": "markdown",
      "metadata": {
        "id": "vuCnBOP6gPNl"
      },
      "source": [
        "## Compile, Train and Evaluate the Model"
      ]
    },
    {
      "cell_type": "code",
      "metadata": {
        "colab": {
          "base_uri": "https://localhost:8080/"
        },
        "id": "GwZ9AjHygPNl",
        "outputId": "18bd3717-dce8-4c91-9484-af8e7a2795c0"
      },
      "source": [
        "## Define the model - deep neural net, i.e., the number of input features and hidden nodes for each layer.\n",
        "\n",
        "number_input_features = len( X_train_scaled[0])\n",
        "hidden_nodes_layer1=7\n",
        "hidden_nodes_layer2=14\n",
        "hidden_nodes_layer3=21\n",
        "nn = tf.keras.models.Sequential()\n",
        "\n",
        "# First hidden layer\n",
        "nn.add(tf.keras.layers.Dense(units=hidden_nodes_layer1, input_dim=number_input_features, activation='relu'))\n",
        "\n",
        "# Second hidden layer\n",
        "nn.add(tf.keras.layers.Dense(units=hidden_nodes_layer2, activation='relu'))\n",
        "\n",
        "# Third hidden layer\n",
        "nn.add(tf.keras.layers.Dense(units=hidden_nodes_layer3, activation='relu'))\n",
        "\n",
        "# Output layer\n",
        "nn.add(tf.keras.layers.Dense(units=1, activation='sigmoid'))\n",
        "\n",
        "# Check the structure of the model\n",
        "nn.summary()"
      ],
      "execution_count": 17,
      "outputs": [
        {
          "output_type": "stream",
          "name": "stdout",
          "text": [
            "Model: \"sequential\"\n",
            "_________________________________________________________________\n",
            "Layer (type)                 Output Shape              Param #   \n",
            "=================================================================\n",
            "dense (Dense)                (None, 7)                 350       \n",
            "_________________________________________________________________\n",
            "dense_1 (Dense)              (None, 14)                112       \n",
            "_________________________________________________________________\n",
            "dense_2 (Dense)              (None, 21)                315       \n",
            "_________________________________________________________________\n",
            "dense_3 (Dense)              (None, 1)                 22        \n",
            "=================================================================\n",
            "Total params: 799\n",
            "Trainable params: 799\n",
            "Non-trainable params: 0\n",
            "_________________________________________________________________\n"
          ]
        }
      ]
    },
    {
      "cell_type": "code",
      "metadata": {
        "id": "vnrRn__ogPNl"
      },
      "source": [
        "# Compile the model\n",
        "nn.compile(loss = 'binary_crossentropy', optimizer = 'adam', metrics=['accuracy'])"
      ],
      "execution_count": 18,
      "outputs": []
    },
    {
      "cell_type": "code",
      "metadata": {
        "colab": {
          "base_uri": "https://localhost:8080/"
        },
        "id": "Nu4U73r7gPNl",
        "outputId": "6ea04ccd-25d8-46fa-e946-bc8424b57fcb"
      },
      "source": [
        "# Train the model\n",
        "fit_model = nn.fit(X_train_scaled,y_train,validation_split=0.15, epochs=100)"
      ],
      "execution_count": 19,
      "outputs": [
        {
          "output_type": "stream",
          "name": "stdout",
          "text": [
            "Epoch 1/100\n",
            "684/684 [==============================] - 3s 2ms/step - loss: 0.6218 - accuracy: 0.6627 - val_loss: 0.5632 - val_accuracy: 0.7266\n",
            "Epoch 2/100\n",
            "684/684 [==============================] - 1s 2ms/step - loss: 0.5669 - accuracy: 0.7207 - val_loss: 0.5538 - val_accuracy: 0.7328\n",
            "Epoch 3/100\n",
            "684/684 [==============================] - 1s 2ms/step - loss: 0.5598 - accuracy: 0.7235 - val_loss: 0.5502 - val_accuracy: 0.7339\n",
            "Epoch 4/100\n",
            "684/684 [==============================] - 1s 2ms/step - loss: 0.5580 - accuracy: 0.7240 - val_loss: 0.5498 - val_accuracy: 0.7344\n",
            "Epoch 5/100\n",
            "684/684 [==============================] - 1s 2ms/step - loss: 0.5557 - accuracy: 0.7253 - val_loss: 0.5529 - val_accuracy: 0.7302\n",
            "Epoch 6/100\n",
            "684/684 [==============================] - 1s 2ms/step - loss: 0.5547 - accuracy: 0.7271 - val_loss: 0.5518 - val_accuracy: 0.7328\n",
            "Epoch 7/100\n",
            "684/684 [==============================] - 1s 2ms/step - loss: 0.5542 - accuracy: 0.7272 - val_loss: 0.5489 - val_accuracy: 0.7352\n",
            "Epoch 8/100\n",
            "684/684 [==============================] - 1s 2ms/step - loss: 0.5532 - accuracy: 0.7270 - val_loss: 0.5472 - val_accuracy: 0.7388\n",
            "Epoch 9/100\n",
            "684/684 [==============================] - 1s 2ms/step - loss: 0.5525 - accuracy: 0.7261 - val_loss: 0.5457 - val_accuracy: 0.7359\n",
            "Epoch 10/100\n",
            "684/684 [==============================] - 1s 2ms/step - loss: 0.5518 - accuracy: 0.7271 - val_loss: 0.5472 - val_accuracy: 0.7367\n",
            "Epoch 11/100\n",
            "684/684 [==============================] - 1s 2ms/step - loss: 0.5513 - accuracy: 0.7267 - val_loss: 0.5462 - val_accuracy: 0.7328\n",
            "Epoch 12/100\n",
            "684/684 [==============================] - 1s 2ms/step - loss: 0.5507 - accuracy: 0.7286 - val_loss: 0.5494 - val_accuracy: 0.7331\n",
            "Epoch 13/100\n",
            "684/684 [==============================] - 1s 2ms/step - loss: 0.5501 - accuracy: 0.7287 - val_loss: 0.5466 - val_accuracy: 0.7321\n",
            "Epoch 14/100\n",
            "684/684 [==============================] - 1s 2ms/step - loss: 0.5505 - accuracy: 0.7287 - val_loss: 0.5487 - val_accuracy: 0.7346\n",
            "Epoch 15/100\n",
            "684/684 [==============================] - 1s 2ms/step - loss: 0.5493 - accuracy: 0.7286 - val_loss: 0.5459 - val_accuracy: 0.7349\n",
            "Epoch 16/100\n",
            "684/684 [==============================] - 1s 2ms/step - loss: 0.5489 - accuracy: 0.7287 - val_loss: 0.5462 - val_accuracy: 0.7352\n",
            "Epoch 17/100\n",
            "684/684 [==============================] - 1s 2ms/step - loss: 0.5489 - accuracy: 0.7296 - val_loss: 0.5477 - val_accuracy: 0.7339\n",
            "Epoch 18/100\n",
            "684/684 [==============================] - 1s 2ms/step - loss: 0.5477 - accuracy: 0.7288 - val_loss: 0.5462 - val_accuracy: 0.7391\n",
            "Epoch 19/100\n",
            "684/684 [==============================] - 1s 2ms/step - loss: 0.5477 - accuracy: 0.7292 - val_loss: 0.5466 - val_accuracy: 0.7349\n",
            "Epoch 20/100\n",
            "684/684 [==============================] - 1s 2ms/step - loss: 0.5474 - accuracy: 0.7305 - val_loss: 0.5459 - val_accuracy: 0.7378\n",
            "Epoch 21/100\n",
            "684/684 [==============================] - 1s 2ms/step - loss: 0.5470 - accuracy: 0.7297 - val_loss: 0.5465 - val_accuracy: 0.7349\n",
            "Epoch 22/100\n",
            "684/684 [==============================] - 1s 2ms/step - loss: 0.5468 - accuracy: 0.7282 - val_loss: 0.5486 - val_accuracy: 0.7378\n",
            "Epoch 23/100\n",
            "684/684 [==============================] - 1s 2ms/step - loss: 0.5471 - accuracy: 0.7304 - val_loss: 0.5458 - val_accuracy: 0.7359\n",
            "Epoch 24/100\n",
            "684/684 [==============================] - 1s 2ms/step - loss: 0.5468 - accuracy: 0.7299 - val_loss: 0.5460 - val_accuracy: 0.7372\n",
            "Epoch 25/100\n",
            "684/684 [==============================] - 1s 2ms/step - loss: 0.5461 - accuracy: 0.7296 - val_loss: 0.5456 - val_accuracy: 0.7359\n",
            "Epoch 26/100\n",
            "684/684 [==============================] - 1s 2ms/step - loss: 0.5461 - accuracy: 0.7314 - val_loss: 0.5475 - val_accuracy: 0.7375\n",
            "Epoch 27/100\n",
            "684/684 [==============================] - 1s 2ms/step - loss: 0.5463 - accuracy: 0.7308 - val_loss: 0.5467 - val_accuracy: 0.7367\n",
            "Epoch 28/100\n",
            "684/684 [==============================] - 1s 2ms/step - loss: 0.5457 - accuracy: 0.7298 - val_loss: 0.5455 - val_accuracy: 0.7375\n",
            "Epoch 29/100\n",
            "684/684 [==============================] - 1s 2ms/step - loss: 0.5455 - accuracy: 0.7298 - val_loss: 0.5456 - val_accuracy: 0.7367\n",
            "Epoch 30/100\n",
            "684/684 [==============================] - 1s 2ms/step - loss: 0.5455 - accuracy: 0.7292 - val_loss: 0.5462 - val_accuracy: 0.7365\n",
            "Epoch 31/100\n",
            "684/684 [==============================] - 1s 2ms/step - loss: 0.5453 - accuracy: 0.7313 - val_loss: 0.5451 - val_accuracy: 0.7359\n",
            "Epoch 32/100\n",
            "684/684 [==============================] - 1s 2ms/step - loss: 0.5458 - accuracy: 0.7313 - val_loss: 0.5448 - val_accuracy: 0.7336\n",
            "Epoch 33/100\n",
            "684/684 [==============================] - 1s 2ms/step - loss: 0.5449 - accuracy: 0.7316 - val_loss: 0.5468 - val_accuracy: 0.7352\n",
            "Epoch 34/100\n",
            "684/684 [==============================] - 1s 2ms/step - loss: 0.5456 - accuracy: 0.7310 - val_loss: 0.5439 - val_accuracy: 0.7375\n",
            "Epoch 35/100\n",
            "684/684 [==============================] - 1s 2ms/step - loss: 0.5448 - accuracy: 0.7314 - val_loss: 0.5433 - val_accuracy: 0.7385\n",
            "Epoch 36/100\n",
            "684/684 [==============================] - 1s 2ms/step - loss: 0.5451 - accuracy: 0.7285 - val_loss: 0.5450 - val_accuracy: 0.7352\n",
            "Epoch 37/100\n",
            "684/684 [==============================] - 1s 2ms/step - loss: 0.5441 - accuracy: 0.7309 - val_loss: 0.5455 - val_accuracy: 0.7359\n",
            "Epoch 38/100\n",
            "684/684 [==============================] - 1s 2ms/step - loss: 0.5450 - accuracy: 0.7297 - val_loss: 0.5455 - val_accuracy: 0.7359\n",
            "Epoch 39/100\n",
            "684/684 [==============================] - 1s 2ms/step - loss: 0.5444 - accuracy: 0.7294 - val_loss: 0.5435 - val_accuracy: 0.7372\n",
            "Epoch 40/100\n",
            "684/684 [==============================] - 1s 2ms/step - loss: 0.5443 - accuracy: 0.7315 - val_loss: 0.5441 - val_accuracy: 0.7352\n",
            "Epoch 41/100\n",
            "684/684 [==============================] - 1s 2ms/step - loss: 0.5441 - accuracy: 0.7318 - val_loss: 0.5462 - val_accuracy: 0.7341\n",
            "Epoch 42/100\n",
            "684/684 [==============================] - 1s 2ms/step - loss: 0.5441 - accuracy: 0.7304 - val_loss: 0.5447 - val_accuracy: 0.7367\n",
            "Epoch 43/100\n",
            "684/684 [==============================] - 1s 2ms/step - loss: 0.5440 - accuracy: 0.7299 - val_loss: 0.5454 - val_accuracy: 0.7346\n",
            "Epoch 44/100\n",
            "684/684 [==============================] - 1s 2ms/step - loss: 0.5438 - accuracy: 0.7301 - val_loss: 0.5460 - val_accuracy: 0.7359\n",
            "Epoch 45/100\n",
            "684/684 [==============================] - 1s 2ms/step - loss: 0.5441 - accuracy: 0.7309 - val_loss: 0.5448 - val_accuracy: 0.7357\n",
            "Epoch 46/100\n",
            "684/684 [==============================] - 1s 2ms/step - loss: 0.5437 - accuracy: 0.7322 - val_loss: 0.5455 - val_accuracy: 0.7367\n",
            "Epoch 47/100\n",
            "684/684 [==============================] - 1s 2ms/step - loss: 0.5440 - accuracy: 0.7323 - val_loss: 0.5480 - val_accuracy: 0.7357\n",
            "Epoch 48/100\n",
            "684/684 [==============================] - 1s 2ms/step - loss: 0.5440 - accuracy: 0.7310 - val_loss: 0.5443 - val_accuracy: 0.7346\n",
            "Epoch 49/100\n",
            "684/684 [==============================] - 1s 2ms/step - loss: 0.5439 - accuracy: 0.7315 - val_loss: 0.5452 - val_accuracy: 0.7354\n",
            "Epoch 50/100\n",
            "684/684 [==============================] - 1s 2ms/step - loss: 0.5433 - accuracy: 0.7303 - val_loss: 0.5447 - val_accuracy: 0.7346\n",
            "Epoch 51/100\n",
            "684/684 [==============================] - 1s 2ms/step - loss: 0.5432 - accuracy: 0.7301 - val_loss: 0.5483 - val_accuracy: 0.7380\n",
            "Epoch 52/100\n",
            "684/684 [==============================] - 1s 2ms/step - loss: 0.5435 - accuracy: 0.7311 - val_loss: 0.5444 - val_accuracy: 0.7365\n",
            "Epoch 53/100\n",
            "684/684 [==============================] - 1s 2ms/step - loss: 0.5435 - accuracy: 0.7331 - val_loss: 0.5447 - val_accuracy: 0.7365\n",
            "Epoch 54/100\n",
            "684/684 [==============================] - 1s 2ms/step - loss: 0.5434 - accuracy: 0.7311 - val_loss: 0.5450 - val_accuracy: 0.7354\n",
            "Epoch 55/100\n",
            "684/684 [==============================] - 1s 2ms/step - loss: 0.5437 - accuracy: 0.7313 - val_loss: 0.5433 - val_accuracy: 0.7339\n",
            "Epoch 56/100\n",
            "684/684 [==============================] - 1s 2ms/step - loss: 0.5428 - accuracy: 0.7313 - val_loss: 0.5447 - val_accuracy: 0.7362\n",
            "Epoch 57/100\n",
            "684/684 [==============================] - 1s 2ms/step - loss: 0.5431 - accuracy: 0.7298 - val_loss: 0.5465 - val_accuracy: 0.7341\n",
            "Epoch 58/100\n",
            "684/684 [==============================] - 1s 2ms/step - loss: 0.5431 - accuracy: 0.7326 - val_loss: 0.5429 - val_accuracy: 0.7378\n",
            "Epoch 59/100\n",
            "684/684 [==============================] - 1s 2ms/step - loss: 0.5430 - accuracy: 0.7311 - val_loss: 0.5437 - val_accuracy: 0.7357\n",
            "Epoch 60/100\n",
            "684/684 [==============================] - 1s 2ms/step - loss: 0.5427 - accuracy: 0.7327 - val_loss: 0.5441 - val_accuracy: 0.7352\n",
            "Epoch 61/100\n",
            "684/684 [==============================] - 1s 2ms/step - loss: 0.5428 - accuracy: 0.7324 - val_loss: 0.5473 - val_accuracy: 0.7341\n",
            "Epoch 62/100\n",
            "684/684 [==============================] - 1s 2ms/step - loss: 0.5427 - accuracy: 0.7341 - val_loss: 0.5442 - val_accuracy: 0.7362\n",
            "Epoch 63/100\n",
            "684/684 [==============================] - 1s 2ms/step - loss: 0.5425 - accuracy: 0.7325 - val_loss: 0.5507 - val_accuracy: 0.7323\n",
            "Epoch 64/100\n",
            "684/684 [==============================] - 1s 2ms/step - loss: 0.5429 - accuracy: 0.7318 - val_loss: 0.5484 - val_accuracy: 0.7313\n",
            "Epoch 65/100\n",
            "684/684 [==============================] - 1s 2ms/step - loss: 0.5431 - accuracy: 0.7310 - val_loss: 0.5444 - val_accuracy: 0.7354\n",
            "Epoch 66/100\n",
            "684/684 [==============================] - 1s 2ms/step - loss: 0.5424 - accuracy: 0.7319 - val_loss: 0.5456 - val_accuracy: 0.7354\n",
            "Epoch 67/100\n",
            "684/684 [==============================] - 1s 2ms/step - loss: 0.5427 - accuracy: 0.7324 - val_loss: 0.5436 - val_accuracy: 0.7375\n",
            "Epoch 68/100\n",
            "684/684 [==============================] - 1s 2ms/step - loss: 0.5431 - accuracy: 0.7309 - val_loss: 0.5425 - val_accuracy: 0.7341\n",
            "Epoch 69/100\n",
            "684/684 [==============================] - 1s 2ms/step - loss: 0.5421 - accuracy: 0.7312 - val_loss: 0.5443 - val_accuracy: 0.7339\n",
            "Epoch 70/100\n",
            "684/684 [==============================] - 1s 2ms/step - loss: 0.5424 - accuracy: 0.7318 - val_loss: 0.5432 - val_accuracy: 0.7359\n",
            "Epoch 71/100\n",
            "684/684 [==============================] - 1s 2ms/step - loss: 0.5422 - accuracy: 0.7312 - val_loss: 0.5439 - val_accuracy: 0.7362\n",
            "Epoch 72/100\n",
            "684/684 [==============================] - 1s 2ms/step - loss: 0.5423 - accuracy: 0.7315 - val_loss: 0.5437 - val_accuracy: 0.7365\n",
            "Epoch 73/100\n",
            "684/684 [==============================] - 1s 2ms/step - loss: 0.5420 - accuracy: 0.7323 - val_loss: 0.5466 - val_accuracy: 0.7341\n",
            "Epoch 74/100\n",
            "684/684 [==============================] - 1s 2ms/step - loss: 0.5424 - accuracy: 0.7305 - val_loss: 0.5432 - val_accuracy: 0.7344\n",
            "Epoch 75/100\n",
            "684/684 [==============================] - 1s 2ms/step - loss: 0.5422 - accuracy: 0.7321 - val_loss: 0.5449 - val_accuracy: 0.7346\n",
            "Epoch 76/100\n",
            "684/684 [==============================] - 1s 2ms/step - loss: 0.5420 - accuracy: 0.7328 - val_loss: 0.5443 - val_accuracy: 0.7339\n",
            "Epoch 77/100\n",
            "684/684 [==============================] - 1s 2ms/step - loss: 0.5418 - accuracy: 0.7326 - val_loss: 0.5436 - val_accuracy: 0.7344\n",
            "Epoch 78/100\n",
            "684/684 [==============================] - 1s 2ms/step - loss: 0.5422 - accuracy: 0.7317 - val_loss: 0.5438 - val_accuracy: 0.7346\n",
            "Epoch 79/100\n",
            "684/684 [==============================] - 1s 2ms/step - loss: 0.5418 - accuracy: 0.7319 - val_loss: 0.5439 - val_accuracy: 0.7346\n",
            "Epoch 80/100\n",
            "684/684 [==============================] - 1s 2ms/step - loss: 0.5420 - accuracy: 0.7322 - val_loss: 0.5436 - val_accuracy: 0.7367\n",
            "Epoch 81/100\n",
            "684/684 [==============================] - 1s 2ms/step - loss: 0.5417 - accuracy: 0.7319 - val_loss: 0.5443 - val_accuracy: 0.7370\n",
            "Epoch 82/100\n",
            "684/684 [==============================] - 1s 2ms/step - loss: 0.5417 - accuracy: 0.7323 - val_loss: 0.5452 - val_accuracy: 0.7352\n",
            "Epoch 83/100\n",
            "684/684 [==============================] - 1s 2ms/step - loss: 0.5420 - accuracy: 0.7328 - val_loss: 0.5451 - val_accuracy: 0.7341\n",
            "Epoch 84/100\n",
            "684/684 [==============================] - 1s 2ms/step - loss: 0.5418 - accuracy: 0.7331 - val_loss: 0.5434 - val_accuracy: 0.7339\n",
            "Epoch 85/100\n",
            "684/684 [==============================] - 1s 2ms/step - loss: 0.5413 - accuracy: 0.7326 - val_loss: 0.5461 - val_accuracy: 0.7354\n",
            "Epoch 86/100\n",
            "684/684 [==============================] - 1s 2ms/step - loss: 0.5421 - accuracy: 0.7322 - val_loss: 0.5435 - val_accuracy: 0.7380\n",
            "Epoch 87/100\n",
            "684/684 [==============================] - 1s 2ms/step - loss: 0.5414 - accuracy: 0.7321 - val_loss: 0.5449 - val_accuracy: 0.7378\n",
            "Epoch 88/100\n",
            "684/684 [==============================] - 1s 2ms/step - loss: 0.5415 - accuracy: 0.7332 - val_loss: 0.5445 - val_accuracy: 0.7362\n",
            "Epoch 89/100\n",
            "684/684 [==============================] - 1s 2ms/step - loss: 0.5415 - accuracy: 0.7335 - val_loss: 0.5441 - val_accuracy: 0.7359\n",
            "Epoch 90/100\n",
            "684/684 [==============================] - 1s 2ms/step - loss: 0.5413 - accuracy: 0.7338 - val_loss: 0.5441 - val_accuracy: 0.7352\n",
            "Epoch 91/100\n",
            "684/684 [==============================] - 1s 2ms/step - loss: 0.5413 - accuracy: 0.7335 - val_loss: 0.5446 - val_accuracy: 0.7349\n",
            "Epoch 92/100\n",
            "684/684 [==============================] - 1s 2ms/step - loss: 0.5413 - accuracy: 0.7331 - val_loss: 0.5450 - val_accuracy: 0.7391\n",
            "Epoch 93/100\n",
            "684/684 [==============================] - 1s 2ms/step - loss: 0.5410 - accuracy: 0.7332 - val_loss: 0.5438 - val_accuracy: 0.7385\n",
            "Epoch 94/100\n",
            "684/684 [==============================] - 1s 2ms/step - loss: 0.5410 - accuracy: 0.7349 - val_loss: 0.5444 - val_accuracy: 0.7357\n",
            "Epoch 95/100\n",
            "684/684 [==============================] - 1s 2ms/step - loss: 0.5412 - accuracy: 0.7332 - val_loss: 0.5446 - val_accuracy: 0.7352\n",
            "Epoch 96/100\n",
            "684/684 [==============================] - 1s 2ms/step - loss: 0.5413 - accuracy: 0.7338 - val_loss: 0.5434 - val_accuracy: 0.7372\n",
            "Epoch 97/100\n",
            "684/684 [==============================] - 1s 2ms/step - loss: 0.5411 - accuracy: 0.7329 - val_loss: 0.5424 - val_accuracy: 0.7344\n",
            "Epoch 98/100\n",
            "684/684 [==============================] - 1s 2ms/step - loss: 0.5407 - accuracy: 0.7340 - val_loss: 0.5443 - val_accuracy: 0.7359\n",
            "Epoch 99/100\n",
            "684/684 [==============================] - 1s 2ms/step - loss: 0.5409 - accuracy: 0.7339 - val_loss: 0.5434 - val_accuracy: 0.7378\n",
            "Epoch 100/100\n",
            "684/684 [==============================] - 1s 2ms/step - loss: 0.5409 - accuracy: 0.7342 - val_loss: 0.5428 - val_accuracy: 0.7362\n"
          ]
        }
      ]
    },
    {
      "cell_type": "code",
      "metadata": {
        "colab": {
          "base_uri": "https://localhost:8080/"
        },
        "id": "6Pu4Qvr3gPNm",
        "outputId": "0006c255-14c3-4afb-b852-540341b3bee9"
      },
      "source": [
        "# Evaluate the model using the test data\n",
        "model_loss, model_accuracy = nn.evaluate(X_test_scaled,y_test,verbose=2)\n",
        "print(f\"Loss: {model_loss}, Accuracy: {model_accuracy}\")"
      ],
      "execution_count": 20,
      "outputs": [
        {
          "output_type": "stream",
          "name": "stdout",
          "text": [
            "268/268 - 0s - loss: 0.5522 - accuracy: 0.7287\n",
            "Loss: 0.5522201657295227, Accuracy: 0.7287463545799255\n"
          ]
        }
      ]
    },
    {
      "cell_type": "code",
      "metadata": {
        "colab": {
          "base_uri": "https://localhost:8080/",
          "height": 17
        },
        "id": "6FyGpCfKgPNm",
        "outputId": "e943dfe6-a38e-45a0-e965-6fa2168a26ce"
      },
      "source": [
        "# Export our model to HDF5 file\n",
        "from google.colab import files\n",
        "\n",
        "nn.save('/content/Model_1.h5')\n",
        "files.download('/content/Model_1.h5')"
      ],
      "execution_count": 21,
      "outputs": [
        {
          "output_type": "display_data",
          "data": {
            "application/javascript": [
              "\n",
              "    async function download(id, filename, size) {\n",
              "      if (!google.colab.kernel.accessAllowed) {\n",
              "        return;\n",
              "      }\n",
              "      const div = document.createElement('div');\n",
              "      const label = document.createElement('label');\n",
              "      label.textContent = `Downloading \"${filename}\": `;\n",
              "      div.appendChild(label);\n",
              "      const progress = document.createElement('progress');\n",
              "      progress.max = size;\n",
              "      div.appendChild(progress);\n",
              "      document.body.appendChild(div);\n",
              "\n",
              "      const buffers = [];\n",
              "      let downloaded = 0;\n",
              "\n",
              "      const channel = await google.colab.kernel.comms.open(id);\n",
              "      // Send a message to notify the kernel that we're ready.\n",
              "      channel.send({})\n",
              "\n",
              "      for await (const message of channel.messages) {\n",
              "        // Send a message to notify the kernel that we're ready.\n",
              "        channel.send({})\n",
              "        if (message.buffers) {\n",
              "          for (const buffer of message.buffers) {\n",
              "            buffers.push(buffer);\n",
              "            downloaded += buffer.byteLength;\n",
              "            progress.value = downloaded;\n",
              "          }\n",
              "        }\n",
              "      }\n",
              "      const blob = new Blob(buffers, {type: 'application/binary'});\n",
              "      const a = document.createElement('a');\n",
              "      a.href = window.URL.createObjectURL(blob);\n",
              "      a.download = filename;\n",
              "      div.appendChild(a);\n",
              "      a.click();\n",
              "      div.remove();\n",
              "    }\n",
              "  "
            ],
            "text/plain": [
              "<IPython.core.display.Javascript object>"
            ]
          },
          "metadata": {}
        },
        {
          "output_type": "display_data",
          "data": {
            "application/javascript": [
              "download(\"download_b643de43-bbe3-4ace-8a00-1cce7f35cdd3\", \"Model_1.h5\", 49088)"
            ],
            "text/plain": [
              "<IPython.core.display.Javascript object>"
            ]
          },
          "metadata": {}
        }
      ]
    }
  ]
}